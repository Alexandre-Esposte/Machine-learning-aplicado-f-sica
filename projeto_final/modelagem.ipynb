{
 "cells": [
  {
   "cell_type": "code",
   "execution_count": 1,
   "metadata": {},
   "outputs": [],
   "source": [
    "import pandas as pd\n",
    "import numpy as np\n",
    "import matplotlib.pyplot as plt\n",
    "import seaborn as sns\n",
    "import sys\n",
    "import matplotlib as mlp\n",
    "\n",
    "from sklearn.pipeline import Pipeline\n",
    "from sklearn.model_selection import train_test_split, KFold\n",
    "\n",
    "from sklearn.metrics import mean_absolute_error, mean_squared_error, mean_absolute_percentage_error\n",
    "\n",
    "from sklearn.preprocessing import StandardScaler, PowerTransformer, MinMaxScaler, PolynomialFeatures\n",
    "\n",
    "from sklearn.linear_model import LinearRegression, Ridge, Lasso\n",
    "\n",
    "from sklearn.ensemble import RandomForestRegressor, AdaBoostRegressor, GradientBoostingRegressor\n",
    "\n",
    "from sklearn.neighbors import KNeighborsRegressor\n",
    "\n",
    "from sklearn.svm import SVR\n",
    "\n",
    "\n",
    "from xgboost import XGBRegressor\n",
    "from lightgbm import LGBMRegressor\n",
    "\n",
    "import plotly.express as px\n",
    "\n",
    "sys.path.append('utils')\n",
    "from modelCrafter import ModelCrafter\n",
    "from funcs import separa_pontos_manual\n",
    "\n",
    "pd.set_option('display.max_columns', None)\n",
    "\n",
    "mlp.rcParams['figure.figsize'] = [10,5]"
   ]
  },
  {
   "cell_type": "markdown",
   "metadata": {},
   "source": [
    "# **Carregando o dataset**"
   ]
  },
  {
   "cell_type": "code",
   "execution_count": 2,
   "metadata": {},
   "outputs": [],
   "source": [
    "lines = pd.read_csv('../datasets/projeto_final/data.csv')"
   ]
  },
  {
   "cell_type": "code",
   "execution_count": 3,
   "metadata": {},
   "outputs": [
    {
     "data": {
      "text/html": [
       "<div>\n",
       "<style scoped>\n",
       "    .dataframe tbody tr th:only-of-type {\n",
       "        vertical-align: middle;\n",
       "    }\n",
       "\n",
       "    .dataframe tbody tr th {\n",
       "        vertical-align: top;\n",
       "    }\n",
       "\n",
       "    .dataframe thead th {\n",
       "        text-align: right;\n",
       "    }\n",
       "</style>\n",
       "<table border=\"1\" class=\"dataframe\">\n",
       "  <thead>\n",
       "    <tr style=\"text-align: right;\">\n",
       "      <th></th>\n",
       "      <th>wavenumber</th>\n",
       "      <th>intensity</th>\n",
       "      <th>j</th>\n",
       "      <th>branch</th>\n",
       "      <th>pressure</th>\n",
       "      <th>temperature</th>\n",
       "      <th>fwhm</th>\n",
       "      <th>gamma</th>\n",
       "      <th>sigma</th>\n",
       "      <th>mean_wv</th>\n",
       "      <th>std_wv</th>\n",
       "      <th>skew_wv</th>\n",
       "      <th>kurtosis_wv</th>\n",
       "      <th>max_wv</th>\n",
       "      <th>min_wv</th>\n",
       "      <th>median_wv</th>\n",
       "      <th>mean_int</th>\n",
       "      <th>std_int</th>\n",
       "      <th>skew_int</th>\n",
       "      <th>kurtosis_int</th>\n",
       "      <th>max_int</th>\n",
       "      <th>min_int</th>\n",
       "      <th>median_int</th>\n",
       "    </tr>\n",
       "  </thead>\n",
       "  <tbody>\n",
       "    <tr>\n",
       "      <th>0</th>\n",
       "      <td>5683.56703</td>\n",
       "      <td>0.87873</td>\n",
       "      <td>0</td>\n",
       "      <td>R37</td>\n",
       "      <td>145</td>\n",
       "      <td>293</td>\n",
       "      <td>0.068169</td>\n",
       "      <td>0.033105</td>\n",
       "      <td>0.004739</td>\n",
       "      <td>5683.566085</td>\n",
       "      <td>0.029765</td>\n",
       "      <td>0.000005</td>\n",
       "      <td>-1.199996</td>\n",
       "      <td>5683.61693</td>\n",
       "      <td>5683.51524</td>\n",
       "      <td>5683.56608</td>\n",
       "      <td>0.567632</td>\n",
       "      <td>0.204984</td>\n",
       "      <td>0.105487</td>\n",
       "      <td>-1.423795</td>\n",
       "      <td>0.87873</td>\n",
       "      <td>0.26557</td>\n",
       "      <td>0.549450</td>\n",
       "    </tr>\n",
       "    <tr>\n",
       "      <th>1</th>\n",
       "      <td>5701.98259</td>\n",
       "      <td>1.23987</td>\n",
       "      <td>1</td>\n",
       "      <td>R37</td>\n",
       "      <td>145</td>\n",
       "      <td>293</td>\n",
       "      <td>0.077525</td>\n",
       "      <td>0.037694</td>\n",
       "      <td>0.005280</td>\n",
       "      <td>5701.981648</td>\n",
       "      <td>0.034114</td>\n",
       "      <td>-0.000005</td>\n",
       "      <td>-1.199997</td>\n",
       "      <td>5702.04003</td>\n",
       "      <td>5701.92327</td>\n",
       "      <td>5701.98165</td>\n",
       "      <td>0.805899</td>\n",
       "      <td>0.290988</td>\n",
       "      <td>0.084993</td>\n",
       "      <td>-1.431570</td>\n",
       "      <td>1.23987</td>\n",
       "      <td>0.37273</td>\n",
       "      <td>0.784530</td>\n",
       "    </tr>\n",
       "    <tr>\n",
       "      <th>2</th>\n",
       "      <td>5719.16744</td>\n",
       "      <td>1.36729</td>\n",
       "      <td>2</td>\n",
       "      <td>R37</td>\n",
       "      <td>145</td>\n",
       "      <td>293</td>\n",
       "      <td>0.080923</td>\n",
       "      <td>0.039601</td>\n",
       "      <td>0.004839</td>\n",
       "      <td>5719.166023</td>\n",
       "      <td>0.035473</td>\n",
       "      <td>0.000010</td>\n",
       "      <td>-1.200007</td>\n",
       "      <td>5719.22676</td>\n",
       "      <td>5719.10529</td>\n",
       "      <td>5719.16602</td>\n",
       "      <td>0.893575</td>\n",
       "      <td>0.319793</td>\n",
       "      <td>0.065195</td>\n",
       "      <td>-1.431605</td>\n",
       "      <td>1.36729</td>\n",
       "      <td>0.41227</td>\n",
       "      <td>0.874895</td>\n",
       "    </tr>\n",
       "    <tr>\n",
       "      <th>3</th>\n",
       "      <td>5735.10744</td>\n",
       "      <td>1.37998</td>\n",
       "      <td>3</td>\n",
       "      <td>R37</td>\n",
       "      <td>145</td>\n",
       "      <td>293</td>\n",
       "      <td>0.079175</td>\n",
       "      <td>0.038495</td>\n",
       "      <td>0.005394</td>\n",
       "      <td>5735.106026</td>\n",
       "      <td>0.034386</td>\n",
       "      <td>0.000023</td>\n",
       "      <td>-1.199989</td>\n",
       "      <td>5735.16488</td>\n",
       "      <td>5735.04717</td>\n",
       "      <td>5735.10603</td>\n",
       "      <td>0.903325</td>\n",
       "      <td>0.320822</td>\n",
       "      <td>0.067481</td>\n",
       "      <td>-1.428374</td>\n",
       "      <td>1.37998</td>\n",
       "      <td>0.41933</td>\n",
       "      <td>0.883840</td>\n",
       "    </tr>\n",
       "    <tr>\n",
       "      <th>4</th>\n",
       "      <td>5749.79130</td>\n",
       "      <td>1.32506</td>\n",
       "      <td>4</td>\n",
       "      <td>R37</td>\n",
       "      <td>145</td>\n",
       "      <td>293</td>\n",
       "      <td>0.069696</td>\n",
       "      <td>0.034073</td>\n",
       "      <td>0.004263</td>\n",
       "      <td>5749.790830</td>\n",
       "      <td>0.030580</td>\n",
       "      <td>0.000007</td>\n",
       "      <td>-1.199999</td>\n",
       "      <td>5749.84309</td>\n",
       "      <td>5749.73857</td>\n",
       "      <td>5749.79083</td>\n",
       "      <td>0.863854</td>\n",
       "      <td>0.309285</td>\n",
       "      <td>0.075582</td>\n",
       "      <td>-1.441434</td>\n",
       "      <td>1.32506</td>\n",
       "      <td>0.40452</td>\n",
       "      <td>0.846285</td>\n",
       "    </tr>\n",
       "  </tbody>\n",
       "</table>\n",
       "</div>"
      ],
      "text/plain": [
       "   wavenumber  intensity  j branch  pressure  temperature      fwhm     gamma  \\\n",
       "0  5683.56703    0.87873  0    R37       145          293  0.068169  0.033105   \n",
       "1  5701.98259    1.23987  1    R37       145          293  0.077525  0.037694   \n",
       "2  5719.16744    1.36729  2    R37       145          293  0.080923  0.039601   \n",
       "3  5735.10744    1.37998  3    R37       145          293  0.079175  0.038495   \n",
       "4  5749.79130    1.32506  4    R37       145          293  0.069696  0.034073   \n",
       "\n",
       "      sigma      mean_wv    std_wv   skew_wv  kurtosis_wv      max_wv  \\\n",
       "0  0.004739  5683.566085  0.029765  0.000005    -1.199996  5683.61693   \n",
       "1  0.005280  5701.981648  0.034114 -0.000005    -1.199997  5702.04003   \n",
       "2  0.004839  5719.166023  0.035473  0.000010    -1.200007  5719.22676   \n",
       "3  0.005394  5735.106026  0.034386  0.000023    -1.199989  5735.16488   \n",
       "4  0.004263  5749.790830  0.030580  0.000007    -1.199999  5749.84309   \n",
       "\n",
       "       min_wv   median_wv  mean_int   std_int  skew_int  kurtosis_int  \\\n",
       "0  5683.51524  5683.56608  0.567632  0.204984  0.105487     -1.423795   \n",
       "1  5701.92327  5701.98165  0.805899  0.290988  0.084993     -1.431570   \n",
       "2  5719.10529  5719.16602  0.893575  0.319793  0.065195     -1.431605   \n",
       "3  5735.04717  5735.10603  0.903325  0.320822  0.067481     -1.428374   \n",
       "4  5749.73857  5749.79083  0.863854  0.309285  0.075582     -1.441434   \n",
       "\n",
       "   max_int  min_int  median_int  \n",
       "0  0.87873  0.26557    0.549450  \n",
       "1  1.23987  0.37273    0.784530  \n",
       "2  1.36729  0.41227    0.874895  \n",
       "3  1.37998  0.41933    0.883840  \n",
       "4  1.32506  0.40452    0.846285  "
      ]
     },
     "execution_count": 3,
     "metadata": {},
     "output_type": "execute_result"
    }
   ],
   "source": [
    "lines.head()"
   ]
  },
  {
   "cell_type": "markdown",
   "metadata": {},
   "source": [
    "# **Verificando integridade dos dados**"
   ]
  },
  {
   "cell_type": "code",
   "execution_count": 4,
   "metadata": {},
   "outputs": [
    {
     "data": {
      "text/plain": [
       "wavenumber      0\n",
       "intensity       0\n",
       "j               0\n",
       "branch          0\n",
       "pressure        0\n",
       "temperature     0\n",
       "fwhm            0\n",
       "gamma           0\n",
       "sigma           0\n",
       "mean_wv         0\n",
       "std_wv          0\n",
       "skew_wv         0\n",
       "kurtosis_wv     0\n",
       "max_wv          0\n",
       "min_wv          0\n",
       "median_wv       0\n",
       "mean_int        0\n",
       "std_int         0\n",
       "skew_int        0\n",
       "kurtosis_int    0\n",
       "max_int         0\n",
       "min_int         0\n",
       "median_int      0\n",
       "dtype: int64"
      ]
     },
     "execution_count": 4,
     "metadata": {},
     "output_type": "execute_result"
    }
   ],
   "source": [
    "lines.isna().sum()"
   ]
  },
  {
   "cell_type": "code",
   "execution_count": 5,
   "metadata": {},
   "outputs": [
    {
     "data": {
      "text/plain": [
       "0"
      ]
     },
     "execution_count": 5,
     "metadata": {},
     "output_type": "execute_result"
    }
   ],
   "source": [
    "lines.duplicated().sum()"
   ]
  },
  {
   "cell_type": "markdown",
   "metadata": {},
   "source": [
    "# Continuação"
   ]
  },
  {
   "cell_type": "code",
   "execution_count": 6,
   "metadata": {},
   "outputs": [],
   "source": [
    "model_pipeline = Pipeline([('preprocessor',StandardScaler())])"
   ]
  },
  {
   "cell_type": "code",
   "execution_count": 7,
   "metadata": {},
   "outputs": [],
   "source": [
    "modelos = [('regressao linear',LinearRegression()),\n",
    "           ('ada',AdaBoostRegressor()),\n",
    "           ('gbr',GradientBoostingRegressor()),\n",
    "           ('xgb',XGBRegressor()),\n",
    "           ('lgbm',LGBMRegressor()),\n",
    "           ('svm',SVR(kernel='poly')),\n",
    "           ('ridge',Ridge()),\n",
    "           ('lasso',Lasso()),\n",
    "           ('knn',KNeighborsRegressor()),\n",
    "           ('floresta',RandomForestRegressor(random_state = 0))]\n",
    "\n",
    "modelcrafter = ModelCrafter()\n",
    "\n",
    "modelcrafter.AddModel(modelos)"
   ]
  },
  {
   "cell_type": "code",
   "execution_count": 8,
   "metadata": {},
   "outputs": [],
   "source": [
    "X = lines.drop(['wavenumber','intensity','j','branch','pressure','temperature','gamma','sigma','fwhm'],axis=1)\n",
    "\n",
    "y = lines['fwhm']"
   ]
  },
  {
   "cell_type": "code",
   "execution_count": 9,
   "metadata": {},
   "outputs": [],
   "source": [
    "X_train , X_test, y_train, y_test = train_test_split(X,y,test_size=0.2 , shuffle= True,random_state = 0)\n",
    "\n",
    "X_train = X_train.reset_index(drop=True)\n",
    "X_test = X_test.reset_index(drop=True)\n",
    "y_train = y_train.reset_index(drop=True)\n",
    "y_test = y_test.reset_index(drop=True)"
   ]
  },
  {
   "cell_type": "code",
   "execution_count": 10,
   "metadata": {},
   "outputs": [
    {
     "name": "stdout",
     "output_type": "stream",
     "text": [
      "-----regressao linear-----\n",
      "-----ada-----\n",
      "-----gbr-----\n",
      "-----xgb-----\n",
      "-----lgbm-----\n",
      "-----svm-----\n",
      "-----ridge-----\n",
      "-----lasso-----\n",
      "-----knn-----\n",
      "-----floresta-----\n"
     ]
    },
    {
     "data": {
      "text/html": [
       "<div>\n",
       "<style scoped>\n",
       "    .dataframe tbody tr th:only-of-type {\n",
       "        vertical-align: middle;\n",
       "    }\n",
       "\n",
       "    .dataframe tbody tr th {\n",
       "        vertical-align: top;\n",
       "    }\n",
       "\n",
       "    .dataframe thead th {\n",
       "        text-align: right;\n",
       "    }\n",
       "</style>\n",
       "<table border=\"1\" class=\"dataframe\">\n",
       "  <thead>\n",
       "    <tr style=\"text-align: right;\">\n",
       "      <th></th>\n",
       "      <th>mae</th>\n",
       "      <th>mape</th>\n",
       "      <th>rms</th>\n",
       "    </tr>\n",
       "  </thead>\n",
       "  <tbody>\n",
       "    <tr>\n",
       "      <th>regressao linear</th>\n",
       "      <td>0.006709</td>\n",
       "      <td>0.092643</td>\n",
       "      <td>0.017711</td>\n",
       "    </tr>\n",
       "    <tr>\n",
       "      <th>floresta</th>\n",
       "      <td>0.008181</td>\n",
       "      <td>0.096147</td>\n",
       "      <td>0.023041</td>\n",
       "    </tr>\n",
       "    <tr>\n",
       "      <th>ridge</th>\n",
       "      <td>0.006788</td>\n",
       "      <td>0.096334</td>\n",
       "      <td>0.018332</td>\n",
       "    </tr>\n",
       "    <tr>\n",
       "      <th>gbr</th>\n",
       "      <td>0.008235</td>\n",
       "      <td>0.099277</td>\n",
       "      <td>0.022260</td>\n",
       "    </tr>\n",
       "    <tr>\n",
       "      <th>xgb</th>\n",
       "      <td>0.008880</td>\n",
       "      <td>0.109591</td>\n",
       "      <td>0.023126</td>\n",
       "    </tr>\n",
       "    <tr>\n",
       "      <th>lgbm</th>\n",
       "      <td>0.012128</td>\n",
       "      <td>0.130772</td>\n",
       "      <td>0.027204</td>\n",
       "    </tr>\n",
       "    <tr>\n",
       "      <th>knn</th>\n",
       "      <td>0.018785</td>\n",
       "      <td>0.244488</td>\n",
       "      <td>0.026533</td>\n",
       "    </tr>\n",
       "    <tr>\n",
       "      <th>ada</th>\n",
       "      <td>0.019858</td>\n",
       "      <td>0.274511</td>\n",
       "      <td>0.028483</td>\n",
       "    </tr>\n",
       "    <tr>\n",
       "      <th>lasso</th>\n",
       "      <td>0.051288</td>\n",
       "      <td>0.654170</td>\n",
       "      <td>0.073769</td>\n",
       "    </tr>\n",
       "    <tr>\n",
       "      <th>svm</th>\n",
       "      <td>0.055189</td>\n",
       "      <td>0.853388</td>\n",
       "      <td>0.068963</td>\n",
       "    </tr>\n",
       "  </tbody>\n",
       "</table>\n",
       "</div>"
      ],
      "text/plain": [
       "                       mae      mape       rms\n",
       "regressao linear  0.006709  0.092643  0.017711\n",
       "floresta          0.008181  0.096147  0.023041\n",
       "ridge             0.006788  0.096334  0.018332\n",
       "gbr               0.008235  0.099277  0.022260\n",
       "xgb               0.008880  0.109591  0.023126\n",
       "lgbm              0.012128  0.130772  0.027204\n",
       "knn               0.018785  0.244488  0.026533\n",
       "ada               0.019858  0.274511  0.028483\n",
       "lasso             0.051288  0.654170  0.073769\n",
       "svm               0.055189  0.853388  0.068963"
      ]
     },
     "execution_count": 10,
     "metadata": {},
     "output_type": "execute_result"
    }
   ],
   "source": [
    "baseline = modelcrafter.ValidacaoCruzada(X_train,y_train,model_pipeline)\n",
    "\n",
    "baseline.sort_values(by='mape',ascending=True)"
   ]
  },
  {
   "cell_type": "code",
   "execution_count": 11,
   "metadata": {},
   "outputs": [
    {
     "data": {
      "text/html": [
       "<style>#sk-container-id-1 {color: black;background-color: white;}#sk-container-id-1 pre{padding: 0;}#sk-container-id-1 div.sk-toggleable {background-color: white;}#sk-container-id-1 label.sk-toggleable__label {cursor: pointer;display: block;width: 100%;margin-bottom: 0;padding: 0.3em;box-sizing: border-box;text-align: center;}#sk-container-id-1 label.sk-toggleable__label-arrow:before {content: \"▸\";float: left;margin-right: 0.25em;color: #696969;}#sk-container-id-1 label.sk-toggleable__label-arrow:hover:before {color: black;}#sk-container-id-1 div.sk-estimator:hover label.sk-toggleable__label-arrow:before {color: black;}#sk-container-id-1 div.sk-toggleable__content {max-height: 0;max-width: 0;overflow: hidden;text-align: left;background-color: #f0f8ff;}#sk-container-id-1 div.sk-toggleable__content pre {margin: 0.2em;color: black;border-radius: 0.25em;background-color: #f0f8ff;}#sk-container-id-1 input.sk-toggleable__control:checked~div.sk-toggleable__content {max-height: 200px;max-width: 100%;overflow: auto;}#sk-container-id-1 input.sk-toggleable__control:checked~label.sk-toggleable__label-arrow:before {content: \"▾\";}#sk-container-id-1 div.sk-estimator input.sk-toggleable__control:checked~label.sk-toggleable__label {background-color: #d4ebff;}#sk-container-id-1 div.sk-label input.sk-toggleable__control:checked~label.sk-toggleable__label {background-color: #d4ebff;}#sk-container-id-1 input.sk-hidden--visually {border: 0;clip: rect(1px 1px 1px 1px);clip: rect(1px, 1px, 1px, 1px);height: 1px;margin: -1px;overflow: hidden;padding: 0;position: absolute;width: 1px;}#sk-container-id-1 div.sk-estimator {font-family: monospace;background-color: #f0f8ff;border: 1px dotted black;border-radius: 0.25em;box-sizing: border-box;margin-bottom: 0.5em;}#sk-container-id-1 div.sk-estimator:hover {background-color: #d4ebff;}#sk-container-id-1 div.sk-parallel-item::after {content: \"\";width: 100%;border-bottom: 1px solid gray;flex-grow: 1;}#sk-container-id-1 div.sk-label:hover label.sk-toggleable__label {background-color: #d4ebff;}#sk-container-id-1 div.sk-serial::before {content: \"\";position: absolute;border-left: 1px solid gray;box-sizing: border-box;top: 0;bottom: 0;left: 50%;z-index: 0;}#sk-container-id-1 div.sk-serial {display: flex;flex-direction: column;align-items: center;background-color: white;padding-right: 0.2em;padding-left: 0.2em;position: relative;}#sk-container-id-1 div.sk-item {position: relative;z-index: 1;}#sk-container-id-1 div.sk-parallel {display: flex;align-items: stretch;justify-content: center;background-color: white;position: relative;}#sk-container-id-1 div.sk-item::before, #sk-container-id-1 div.sk-parallel-item::before {content: \"\";position: absolute;border-left: 1px solid gray;box-sizing: border-box;top: 0;bottom: 0;left: 50%;z-index: -1;}#sk-container-id-1 div.sk-parallel-item {display: flex;flex-direction: column;z-index: 1;position: relative;background-color: white;}#sk-container-id-1 div.sk-parallel-item:first-child::after {align-self: flex-end;width: 50%;}#sk-container-id-1 div.sk-parallel-item:last-child::after {align-self: flex-start;width: 50%;}#sk-container-id-1 div.sk-parallel-item:only-child::after {width: 0;}#sk-container-id-1 div.sk-dashed-wrapped {border: 1px dashed gray;margin: 0 0.4em 0.5em 0.4em;box-sizing: border-box;padding-bottom: 0.4em;background-color: white;}#sk-container-id-1 div.sk-label label {font-family: monospace;font-weight: bold;display: inline-block;line-height: 1.2em;}#sk-container-id-1 div.sk-label-container {text-align: center;}#sk-container-id-1 div.sk-container {/* jupyter's `normalize.less` sets `[hidden] { display: none; }` but bootstrap.min.css set `[hidden] { display: none !important; }` so we also need the `!important` here to be able to override the default hidden behavior on the sphinx rendered scikit-learn.org. See: https://github.com/scikit-learn/scikit-learn/issues/21755 */display: inline-block !important;position: relative;}#sk-container-id-1 div.sk-text-repr-fallback {display: none;}</style><div id=\"sk-container-id-1\" class=\"sk-top-container\"><div class=\"sk-text-repr-fallback\"><pre>Pipeline(steps=[(&#x27;power&#x27;, PowerTransformer()), (&#x27;norm&#x27;, StandardScaler())])</pre><b>In a Jupyter environment, please rerun this cell to show the HTML representation or trust the notebook. <br />On GitHub, the HTML representation is unable to render, please try loading this page with nbviewer.org.</b></div><div class=\"sk-container\" hidden><div class=\"sk-item sk-dashed-wrapped\"><div class=\"sk-label-container\"><div class=\"sk-label sk-toggleable\"><input class=\"sk-toggleable__control sk-hidden--visually\" id=\"sk-estimator-id-1\" type=\"checkbox\" ><label for=\"sk-estimator-id-1\" class=\"sk-toggleable__label sk-toggleable__label-arrow\">Pipeline</label><div class=\"sk-toggleable__content\"><pre>Pipeline(steps=[(&#x27;power&#x27;, PowerTransformer()), (&#x27;norm&#x27;, StandardScaler())])</pre></div></div></div><div class=\"sk-serial\"><div class=\"sk-item\"><div class=\"sk-estimator sk-toggleable\"><input class=\"sk-toggleable__control sk-hidden--visually\" id=\"sk-estimator-id-2\" type=\"checkbox\" ><label for=\"sk-estimator-id-2\" class=\"sk-toggleable__label sk-toggleable__label-arrow\">PowerTransformer</label><div class=\"sk-toggleable__content\"><pre>PowerTransformer()</pre></div></div></div><div class=\"sk-item\"><div class=\"sk-estimator sk-toggleable\"><input class=\"sk-toggleable__control sk-hidden--visually\" id=\"sk-estimator-id-3\" type=\"checkbox\" ><label for=\"sk-estimator-id-3\" class=\"sk-toggleable__label sk-toggleable__label-arrow\">StandardScaler</label><div class=\"sk-toggleable__content\"><pre>StandardScaler()</pre></div></div></div></div></div></div></div>"
      ],
      "text/plain": [
       "Pipeline(steps=[('power', PowerTransformer()), ('norm', StandardScaler())])"
      ]
     },
     "execution_count": 11,
     "metadata": {},
     "output_type": "execute_result"
    }
   ],
   "source": [
    "model_pipeline = Pipeline([('power',PowerTransformer()),('norm',StandardScaler())])\n",
    "model_pipeline"
   ]
  },
  {
   "cell_type": "code",
   "execution_count": 12,
   "metadata": {},
   "outputs": [
    {
     "name": "stdout",
     "output_type": "stream",
     "text": [
      "-----regressao linear-----\n",
      "-----ada-----\n",
      "-----gbr-----\n",
      "-----xgb-----\n",
      "-----lgbm-----\n",
      "-----svm-----\n",
      "-----ridge-----\n",
      "-----lasso-----\n",
      "-----knn-----\n",
      "-----floresta-----\n"
     ]
    },
    {
     "data": {
      "text/html": [
       "<div>\n",
       "<style scoped>\n",
       "    .dataframe tbody tr th:only-of-type {\n",
       "        vertical-align: middle;\n",
       "    }\n",
       "\n",
       "    .dataframe tbody tr th {\n",
       "        vertical-align: top;\n",
       "    }\n",
       "\n",
       "    .dataframe thead th {\n",
       "        text-align: right;\n",
       "    }\n",
       "</style>\n",
       "<table border=\"1\" class=\"dataframe\">\n",
       "  <thead>\n",
       "    <tr style=\"text-align: right;\">\n",
       "      <th></th>\n",
       "      <th>mae</th>\n",
       "      <th>mape</th>\n",
       "      <th>rms</th>\n",
       "    </tr>\n",
       "  </thead>\n",
       "  <tbody>\n",
       "    <tr>\n",
       "      <th>floresta</th>\n",
       "      <td>0.008218</td>\n",
       "      <td>0.096629</td>\n",
       "      <td>0.023028</td>\n",
       "    </tr>\n",
       "    <tr>\n",
       "      <th>gbr</th>\n",
       "      <td>0.008419</td>\n",
       "      <td>0.100480</td>\n",
       "      <td>0.022883</td>\n",
       "    </tr>\n",
       "    <tr>\n",
       "      <th>xgb</th>\n",
       "      <td>0.009221</td>\n",
       "      <td>0.112183</td>\n",
       "      <td>0.024020</td>\n",
       "    </tr>\n",
       "    <tr>\n",
       "      <th>lgbm</th>\n",
       "      <td>0.011823</td>\n",
       "      <td>0.130744</td>\n",
       "      <td>0.025592</td>\n",
       "    </tr>\n",
       "    <tr>\n",
       "      <th>regressao linear</th>\n",
       "      <td>0.013537</td>\n",
       "      <td>0.168398</td>\n",
       "      <td>0.022654</td>\n",
       "    </tr>\n",
       "    <tr>\n",
       "      <th>knn</th>\n",
       "      <td>0.020078</td>\n",
       "      <td>0.229507</td>\n",
       "      <td>0.033430</td>\n",
       "    </tr>\n",
       "    <tr>\n",
       "      <th>ridge</th>\n",
       "      <td>0.021580</td>\n",
       "      <td>0.255828</td>\n",
       "      <td>0.034647</td>\n",
       "    </tr>\n",
       "    <tr>\n",
       "      <th>ada</th>\n",
       "      <td>0.020406</td>\n",
       "      <td>0.276718</td>\n",
       "      <td>0.029860</td>\n",
       "    </tr>\n",
       "    <tr>\n",
       "      <th>lasso</th>\n",
       "      <td>0.051288</td>\n",
       "      <td>0.654170</td>\n",
       "      <td>0.073769</td>\n",
       "    </tr>\n",
       "    <tr>\n",
       "      <th>svm</th>\n",
       "      <td>0.059708</td>\n",
       "      <td>0.853559</td>\n",
       "      <td>0.067751</td>\n",
       "    </tr>\n",
       "  </tbody>\n",
       "</table>\n",
       "</div>"
      ],
      "text/plain": [
       "                       mae      mape       rms\n",
       "floresta          0.008218  0.096629  0.023028\n",
       "gbr               0.008419  0.100480  0.022883\n",
       "xgb               0.009221  0.112183  0.024020\n",
       "lgbm              0.011823  0.130744  0.025592\n",
       "regressao linear  0.013537  0.168398  0.022654\n",
       "knn               0.020078  0.229507  0.033430\n",
       "ridge             0.021580  0.255828  0.034647\n",
       "ada               0.020406  0.276718  0.029860\n",
       "lasso             0.051288  0.654170  0.073769\n",
       "svm               0.059708  0.853559  0.067751"
      ]
     },
     "execution_count": 12,
     "metadata": {},
     "output_type": "execute_result"
    }
   ],
   "source": [
    "res = modelcrafter.ValidacaoCruzada(X_train,y_train,model_pipeline)\n",
    "\n",
    "res.sort_values(by='mape',ascending=True)"
   ]
  },
  {
   "cell_type": "code",
   "execution_count": 13,
   "metadata": {},
   "outputs": [
    {
     "name": "stdout",
     "output_type": "stream",
     "text": [
      "-----regressao linear-----\n",
      "-----ada-----\n",
      "-----gbr-----\n",
      "-----xgb-----\n",
      "-----lgbm-----\n",
      "-----svm-----\n",
      "-----ridge-----\n",
      "-----lasso-----\n",
      "-----knn-----\n",
      "-----floresta-----\n"
     ]
    },
    {
     "data": {
      "text/html": [
       "<div>\n",
       "<style scoped>\n",
       "    .dataframe tbody tr th:only-of-type {\n",
       "        vertical-align: middle;\n",
       "    }\n",
       "\n",
       "    .dataframe tbody tr th {\n",
       "        vertical-align: top;\n",
       "    }\n",
       "\n",
       "    .dataframe thead th {\n",
       "        text-align: right;\n",
       "    }\n",
       "</style>\n",
       "<table border=\"1\" class=\"dataframe\">\n",
       "  <thead>\n",
       "    <tr style=\"text-align: right;\">\n",
       "      <th></th>\n",
       "      <th>modelo</th>\n",
       "      <th>mae_treino</th>\n",
       "      <th>mae_teste</th>\n",
       "      <th>rms_treino</th>\n",
       "      <th>rms_teste</th>\n",
       "      <th>mape_treino</th>\n",
       "      <th>mape_teste</th>\n",
       "    </tr>\n",
       "  </thead>\n",
       "  <tbody>\n",
       "    <tr>\n",
       "      <th>9</th>\n",
       "      <td>floresta</td>\n",
       "      <td>0.003244</td>\n",
       "      <td>0.011170</td>\n",
       "      <td>0.009923</td>\n",
       "      <td>0.035678</td>\n",
       "      <td>0.037773</td>\n",
       "      <td>0.093665</td>\n",
       "    </tr>\n",
       "    <tr>\n",
       "      <th>2</th>\n",
       "      <td>gbr</td>\n",
       "      <td>0.002083</td>\n",
       "      <td>0.011353</td>\n",
       "      <td>0.003575</td>\n",
       "      <td>0.035705</td>\n",
       "      <td>0.025814</td>\n",
       "      <td>0.100870</td>\n",
       "    </tr>\n",
       "    <tr>\n",
       "      <th>3</th>\n",
       "      <td>xgb</td>\n",
       "      <td>0.000583</td>\n",
       "      <td>0.012587</td>\n",
       "      <td>0.000800</td>\n",
       "      <td>0.033978</td>\n",
       "      <td>0.007785</td>\n",
       "      <td>0.120407</td>\n",
       "    </tr>\n",
       "    <tr>\n",
       "      <th>4</th>\n",
       "      <td>lgbm</td>\n",
       "      <td>0.005570</td>\n",
       "      <td>0.014333</td>\n",
       "      <td>0.014622</td>\n",
       "      <td>0.034654</td>\n",
       "      <td>0.057428</td>\n",
       "      <td>0.128539</td>\n",
       "    </tr>\n",
       "    <tr>\n",
       "      <th>0</th>\n",
       "      <td>regressao linear</td>\n",
       "      <td>0.012884</td>\n",
       "      <td>0.018332</td>\n",
       "      <td>0.021730</td>\n",
       "      <td>0.031361</td>\n",
       "      <td>0.158244</td>\n",
       "      <td>0.198885</td>\n",
       "    </tr>\n",
       "    <tr>\n",
       "      <th>6</th>\n",
       "      <td>ridge</td>\n",
       "      <td>0.020633</td>\n",
       "      <td>0.020562</td>\n",
       "      <td>0.033117</td>\n",
       "      <td>0.035248</td>\n",
       "      <td>0.244208</td>\n",
       "      <td>0.221100</td>\n",
       "    </tr>\n",
       "    <tr>\n",
       "      <th>8</th>\n",
       "      <td>knn</td>\n",
       "      <td>0.015461</td>\n",
       "      <td>0.020629</td>\n",
       "      <td>0.026740</td>\n",
       "      <td>0.037705</td>\n",
       "      <td>0.175207</td>\n",
       "      <td>0.233688</td>\n",
       "    </tr>\n",
       "    <tr>\n",
       "      <th>1</th>\n",
       "      <td>ada</td>\n",
       "      <td>0.018829</td>\n",
       "      <td>0.026501</td>\n",
       "      <td>0.022710</td>\n",
       "      <td>0.041241</td>\n",
       "      <td>0.260001</td>\n",
       "      <td>0.337080</td>\n",
       "    </tr>\n",
       "    <tr>\n",
       "      <th>7</th>\n",
       "      <td>lasso</td>\n",
       "      <td>0.051059</td>\n",
       "      <td>0.052032</td>\n",
       "      <td>0.074055</td>\n",
       "      <td>0.072684</td>\n",
       "      <td>0.651407</td>\n",
       "      <td>0.715834</td>\n",
       "    </tr>\n",
       "    <tr>\n",
       "      <th>5</th>\n",
       "      <td>svm</td>\n",
       "      <td>0.057425</td>\n",
       "      <td>0.057089</td>\n",
       "      <td>0.064982</td>\n",
       "      <td>0.066756</td>\n",
       "      <td>0.806699</td>\n",
       "      <td>0.848105</td>\n",
       "    </tr>\n",
       "  </tbody>\n",
       "</table>\n",
       "</div>"
      ],
      "text/plain": [
       "             modelo  mae_treino  mae_teste  rms_treino  rms_teste  \\\n",
       "9          floresta    0.003244   0.011170    0.009923   0.035678   \n",
       "2               gbr    0.002083   0.011353    0.003575   0.035705   \n",
       "3               xgb    0.000583   0.012587    0.000800   0.033978   \n",
       "4              lgbm    0.005570   0.014333    0.014622   0.034654   \n",
       "0  regressao linear    0.012884   0.018332    0.021730   0.031361   \n",
       "6             ridge    0.020633   0.020562    0.033117   0.035248   \n",
       "8               knn    0.015461   0.020629    0.026740   0.037705   \n",
       "1               ada    0.018829   0.026501    0.022710   0.041241   \n",
       "7             lasso    0.051059   0.052032    0.074055   0.072684   \n",
       "5               svm    0.057425   0.057089    0.064982   0.066756   \n",
       "\n",
       "   mape_treino  mape_teste  \n",
       "9     0.037773    0.093665  \n",
       "2     0.025814    0.100870  \n",
       "3     0.007785    0.120407  \n",
       "4     0.057428    0.128539  \n",
       "0     0.158244    0.198885  \n",
       "6     0.244208    0.221100  \n",
       "8     0.175207    0.233688  \n",
       "1     0.260001    0.337080  \n",
       "7     0.651407    0.715834  \n",
       "5     0.806699    0.848105  "
      ]
     },
     "execution_count": 13,
     "metadata": {},
     "output_type": "execute_result"
    }
   ],
   "source": [
    "modelcrafter.Validacao(X_train,X_test,y_train,y_test,pipe=model_pipeline).sort_values(by='mape_teste')"
   ]
  },
  {
   "cell_type": "code",
   "execution_count": 14,
   "metadata": {},
   "outputs": [
    {
     "data": {
      "text/html": [
       "<style>#sk-container-id-2 {color: black;background-color: white;}#sk-container-id-2 pre{padding: 0;}#sk-container-id-2 div.sk-toggleable {background-color: white;}#sk-container-id-2 label.sk-toggleable__label {cursor: pointer;display: block;width: 100%;margin-bottom: 0;padding: 0.3em;box-sizing: border-box;text-align: center;}#sk-container-id-2 label.sk-toggleable__label-arrow:before {content: \"▸\";float: left;margin-right: 0.25em;color: #696969;}#sk-container-id-2 label.sk-toggleable__label-arrow:hover:before {color: black;}#sk-container-id-2 div.sk-estimator:hover label.sk-toggleable__label-arrow:before {color: black;}#sk-container-id-2 div.sk-toggleable__content {max-height: 0;max-width: 0;overflow: hidden;text-align: left;background-color: #f0f8ff;}#sk-container-id-2 div.sk-toggleable__content pre {margin: 0.2em;color: black;border-radius: 0.25em;background-color: #f0f8ff;}#sk-container-id-2 input.sk-toggleable__control:checked~div.sk-toggleable__content {max-height: 200px;max-width: 100%;overflow: auto;}#sk-container-id-2 input.sk-toggleable__control:checked~label.sk-toggleable__label-arrow:before {content: \"▾\";}#sk-container-id-2 div.sk-estimator input.sk-toggleable__control:checked~label.sk-toggleable__label {background-color: #d4ebff;}#sk-container-id-2 div.sk-label input.sk-toggleable__control:checked~label.sk-toggleable__label {background-color: #d4ebff;}#sk-container-id-2 input.sk-hidden--visually {border: 0;clip: rect(1px 1px 1px 1px);clip: rect(1px, 1px, 1px, 1px);height: 1px;margin: -1px;overflow: hidden;padding: 0;position: absolute;width: 1px;}#sk-container-id-2 div.sk-estimator {font-family: monospace;background-color: #f0f8ff;border: 1px dotted black;border-radius: 0.25em;box-sizing: border-box;margin-bottom: 0.5em;}#sk-container-id-2 div.sk-estimator:hover {background-color: #d4ebff;}#sk-container-id-2 div.sk-parallel-item::after {content: \"\";width: 100%;border-bottom: 1px solid gray;flex-grow: 1;}#sk-container-id-2 div.sk-label:hover label.sk-toggleable__label {background-color: #d4ebff;}#sk-container-id-2 div.sk-serial::before {content: \"\";position: absolute;border-left: 1px solid gray;box-sizing: border-box;top: 0;bottom: 0;left: 50%;z-index: 0;}#sk-container-id-2 div.sk-serial {display: flex;flex-direction: column;align-items: center;background-color: white;padding-right: 0.2em;padding-left: 0.2em;position: relative;}#sk-container-id-2 div.sk-item {position: relative;z-index: 1;}#sk-container-id-2 div.sk-parallel {display: flex;align-items: stretch;justify-content: center;background-color: white;position: relative;}#sk-container-id-2 div.sk-item::before, #sk-container-id-2 div.sk-parallel-item::before {content: \"\";position: absolute;border-left: 1px solid gray;box-sizing: border-box;top: 0;bottom: 0;left: 50%;z-index: -1;}#sk-container-id-2 div.sk-parallel-item {display: flex;flex-direction: column;z-index: 1;position: relative;background-color: white;}#sk-container-id-2 div.sk-parallel-item:first-child::after {align-self: flex-end;width: 50%;}#sk-container-id-2 div.sk-parallel-item:last-child::after {align-self: flex-start;width: 50%;}#sk-container-id-2 div.sk-parallel-item:only-child::after {width: 0;}#sk-container-id-2 div.sk-dashed-wrapped {border: 1px dashed gray;margin: 0 0.4em 0.5em 0.4em;box-sizing: border-box;padding-bottom: 0.4em;background-color: white;}#sk-container-id-2 div.sk-label label {font-family: monospace;font-weight: bold;display: inline-block;line-height: 1.2em;}#sk-container-id-2 div.sk-label-container {text-align: center;}#sk-container-id-2 div.sk-container {/* jupyter's `normalize.less` sets `[hidden] { display: none; }` but bootstrap.min.css set `[hidden] { display: none !important; }` so we also need the `!important` here to be able to override the default hidden behavior on the sphinx rendered scikit-learn.org. See: https://github.com/scikit-learn/scikit-learn/issues/21755 */display: inline-block !important;position: relative;}#sk-container-id-2 div.sk-text-repr-fallback {display: none;}</style><div id=\"sk-container-id-2\" class=\"sk-top-container\"><div class=\"sk-text-repr-fallback\"><pre>Pipeline(steps=[(&#x27;power&#x27;, PowerTransformer()), (&#x27;norm&#x27;, StandardScaler()),\n",
       "                (&#x27;model&#x27;, RandomForestRegressor(random_state=0))])</pre><b>In a Jupyter environment, please rerun this cell to show the HTML representation or trust the notebook. <br />On GitHub, the HTML representation is unable to render, please try loading this page with nbviewer.org.</b></div><div class=\"sk-container\" hidden><div class=\"sk-item sk-dashed-wrapped\"><div class=\"sk-label-container\"><div class=\"sk-label sk-toggleable\"><input class=\"sk-toggleable__control sk-hidden--visually\" id=\"sk-estimator-id-4\" type=\"checkbox\" ><label for=\"sk-estimator-id-4\" class=\"sk-toggleable__label sk-toggleable__label-arrow\">Pipeline</label><div class=\"sk-toggleable__content\"><pre>Pipeline(steps=[(&#x27;power&#x27;, PowerTransformer()), (&#x27;norm&#x27;, StandardScaler()),\n",
       "                (&#x27;model&#x27;, RandomForestRegressor(random_state=0))])</pre></div></div></div><div class=\"sk-serial\"><div class=\"sk-item\"><div class=\"sk-estimator sk-toggleable\"><input class=\"sk-toggleable__control sk-hidden--visually\" id=\"sk-estimator-id-5\" type=\"checkbox\" ><label for=\"sk-estimator-id-5\" class=\"sk-toggleable__label sk-toggleable__label-arrow\">PowerTransformer</label><div class=\"sk-toggleable__content\"><pre>PowerTransformer()</pre></div></div></div><div class=\"sk-item\"><div class=\"sk-estimator sk-toggleable\"><input class=\"sk-toggleable__control sk-hidden--visually\" id=\"sk-estimator-id-6\" type=\"checkbox\" ><label for=\"sk-estimator-id-6\" class=\"sk-toggleable__label sk-toggleable__label-arrow\">StandardScaler</label><div class=\"sk-toggleable__content\"><pre>StandardScaler()</pre></div></div></div><div class=\"sk-item\"><div class=\"sk-estimator sk-toggleable\"><input class=\"sk-toggleable__control sk-hidden--visually\" id=\"sk-estimator-id-7\" type=\"checkbox\" ><label for=\"sk-estimator-id-7\" class=\"sk-toggleable__label sk-toggleable__label-arrow\">RandomForestRegressor</label><div class=\"sk-toggleable__content\"><pre>RandomForestRegressor(random_state=0)</pre></div></div></div></div></div></div></div>"
      ],
      "text/plain": [
       "Pipeline(steps=[('power', PowerTransformer()), ('norm', StandardScaler()),\n",
       "                ('model', RandomForestRegressor(random_state=0))])"
      ]
     },
     "execution_count": 14,
     "metadata": {},
     "output_type": "execute_result"
    }
   ],
   "source": [
    "model = Pipeline([('power',PowerTransformer()),\n",
    "                  ('norm',StandardScaler()), \n",
    "                  ('model',RandomForestRegressor(random_state = 0))\n",
    "                ])\n",
    "\n",
    "model.fit(X_train,y_train)"
   ]
  },
  {
   "cell_type": "code",
   "execution_count": 15,
   "metadata": {},
   "outputs": [],
   "source": [
    "pred = model.predict(X_test)"
   ]
  },
  {
   "cell_type": "code",
   "execution_count": 18,
   "metadata": {},
   "outputs": [
    {
     "data": {
      "image/png": "[encoded data removed]",
      "text/plain": [
       "<Figure size 1000x500 with 1 Axes>"
      ]
     },
     "metadata": {},
     "output_type": "display_data"
    }
   ],
   "source": [
    "fig,ax = plt.subplots()\n",
    "\n",
    "ax.plot([y_test.min(),y_test.max()],[pred.min(),pred.max()],'--',color='black',linewidth=1.5)\n",
    "ax.scatter(x = y_test ,y = pred,s = 15)\n",
    "ax.set_ylabel('Estimado',size=12)\n",
    "ax.set_xlabel('Real',size=12)\n",
    "\n",
    "ax.spines['top'].set_visible(False)\n",
    "ax.spines['right'].set_visible(False)\n",
    "plt.show()"
   ]
  },
  {
   "cell_type": "code",
   "execution_count": 22,
   "metadata": {},
   "outputs": [],
   "source": [
    "resultados = pd.DataFrame({'real': y_test, 'estimado':pred})"
   ]
  },
  {
   "cell_type": "code",
   "execution_count": 33,
   "metadata": {},
   "outputs": [],
   "source": [
    "resultados['erro'] = np.abs(resultados['real'] - resultados['estimado']) / resultados['real']\n",
    "resultados['residuos'] = resultados['real'] - resultados['estimado']"
   ]
  },
  {
   "cell_type": "code",
   "execution_count": 34,
   "metadata": {},
   "outputs": [
    {
     "data": {
      "text/html": [
       "<div>\n",
       "<style scoped>\n",
       "    .dataframe tbody tr th:only-of-type {\n",
       "        vertical-align: middle;\n",
       "    }\n",
       "\n",
       "    .dataframe tbody tr th {\n",
       "        vertical-align: top;\n",
       "    }\n",
       "\n",
       "    .dataframe thead th {\n",
       "        text-align: right;\n",
       "    }\n",
       "</style>\n",
       "<table border=\"1\" class=\"dataframe\">\n",
       "  <thead>\n",
       "    <tr style=\"text-align: right;\">\n",
       "      <th></th>\n",
       "      <th>count</th>\n",
       "      <th>mean</th>\n",
       "      <th>std</th>\n",
       "      <th>min</th>\n",
       "      <th>25%</th>\n",
       "      <th>50%</th>\n",
       "      <th>75%</th>\n",
       "      <th>max</th>\n",
       "    </tr>\n",
       "  </thead>\n",
       "  <tbody>\n",
       "    <tr>\n",
       "      <th>real</th>\n",
       "      <td>85.0</td>\n",
       "      <td>0.098083</td>\n",
       "      <td>0.072835</td>\n",
       "      <td>0.018190</td>\n",
       "      <td>0.058265</td>\n",
       "      <td>0.072363</td>\n",
       "      <td>0.112233</td>\n",
       "      <td>0.395483</td>\n",
       "    </tr>\n",
       "    <tr>\n",
       "      <th>estimado</th>\n",
       "      <td>85.0</td>\n",
       "      <td>0.094243</td>\n",
       "      <td>0.061646</td>\n",
       "      <td>0.024254</td>\n",
       "      <td>0.060544</td>\n",
       "      <td>0.073210</td>\n",
       "      <td>0.110979</td>\n",
       "      <td>0.375216</td>\n",
       "    </tr>\n",
       "    <tr>\n",
       "      <th>erro</th>\n",
       "      <td>85.0</td>\n",
       "      <td>0.093662</td>\n",
       "      <td>0.221967</td>\n",
       "      <td>0.000026</td>\n",
       "      <td>0.009172</td>\n",
       "      <td>0.026263</td>\n",
       "      <td>0.061269</td>\n",
       "      <td>1.516125</td>\n",
       "    </tr>\n",
       "    <tr>\n",
       "      <th>residuos</th>\n",
       "      <td>85.0</td>\n",
       "      <td>0.003840</td>\n",
       "      <td>0.035681</td>\n",
       "      <td>-0.104980</td>\n",
       "      <td>-0.002055</td>\n",
       "      <td>-0.000441</td>\n",
       "      <td>0.001254</td>\n",
       "      <td>0.257502</td>\n",
       "    </tr>\n",
       "  </tbody>\n",
       "</table>\n",
       "</div>"
      ],
      "text/plain": [
       "          count      mean       std       min       25%       50%       75%  \\\n",
       "real       85.0  0.098083  0.072835  0.018190  0.058265  0.072363  0.112233   \n",
       "estimado   85.0  0.094243  0.061646  0.024254  0.060544  0.073210  0.110979   \n",
       "erro       85.0  0.093662  0.221967  0.000026  0.009172  0.026263  0.061269   \n",
       "residuos   85.0  0.003840  0.035681 -0.104980 -0.002055 -0.000441  0.001254   \n",
       "\n",
       "               max  \n",
       "real      0.395483  \n",
       "estimado  0.375216  \n",
       "erro      1.516125  \n",
       "residuos  0.257502  "
      ]
     },
     "execution_count": 34,
     "metadata": {},
     "output_type": "execute_result"
    }
   ],
   "source": [
    "resultados.describe().T"
   ]
  },
  {
   "cell_type": "code",
   "execution_count": 40,
   "metadata": {},
   "outputs": [
    {
     "data": {
      "text/plain": [
       "<AxesSubplot: xlabel='real', ylabel='residuos'>"
      ]
     },
     "execution_count": 40,
     "metadata": {},
     "output_type": "execute_result"
    },
    {
     "data": {
      "image/png": "[encoded data removed]",
      "text/plain": [
       "<Figure size 1000x500 with 1 Axes>"
      ]
     },
     "metadata": {},
     "output_type": "display_data"
    }
   ],
   "source": [
    "sns.scatterplot(data=resultados,x='real',y='residuos')"
   ]
  },
  {
   "cell_type": "code",
   "execution_count": 41,
   "metadata": {},
   "outputs": [
    {
     "data": {
      "text/plain": [
       "<AxesSubplot: xlabel='real', ylabel='erro'>"
      ]
     },
     "execution_count": 41,
     "metadata": {},
     "output_type": "execute_result"
    },
    {
     "data": {
      "image/png": "[encoded data removed]",
      "text/plain": [
       "<Figure size 1000x500 with 1 Axes>"
      ]
     },
     "metadata": {},
     "output_type": "display_data"
    }
   ],
   "source": [
    "sns.scatterplot(data=resultados,x='real',y='erro')"
   ]
  },
  {
   "cell_type": "code",
   "execution_count": 59,
   "metadata": {},
   "outputs": [
    {
     "data": {
      "text/plain": [
       "2.626258414408526"
      ]
     },
     "execution_count": 59,
     "metadata": {},
     "output_type": "execute_result"
    }
   ],
   "source": [
    "resultados['erro'].quantile(0.5)*100"
   ]
  }
 ],
 "metadata": {
  "kernelspec": {
   "display_name": "Python 3.10.12 64-bit",
   "language": "python",
   "name": "python3"
  },
  "language_info": {
   "codemirror_mode": {
    "name": "ipython",
    "version": 3
   },
   "file_extension": ".py",
   "mimetype": "text/x-python",
   "name": "python",
   "nbconvert_exporter": "python",
   "pygments_lexer": "ipython3",
   "version": "3.10.12"
  },
  "orig_nbformat": 4,
  "vscode": {
   "interpreter": {
    "hash": "916dbcbb3f70747c44a77c7bcd40155683ae19c65e1c03b4aa3499c5328201f1"
   }
  }
 },
 "nbformat": 4,
 "nbformat_minor": 2
}
